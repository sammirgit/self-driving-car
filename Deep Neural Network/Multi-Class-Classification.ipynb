{
 "cells": [
  {
   "cell_type": "code",
   "execution_count": 10,
   "metadata": {},
   "outputs": [],
   "source": [
    "import numpy as np\n",
    "import matplotlib.pyplot as plt\n",
    "from sklearn import datasets\n",
    "import keras\n",
    "from keras.models import Sequential\n",
    "from keras.layers import Dense\n",
    "from keras.optimizers import Adam\n",
    "from keras.utils.np_utils import to_categorical"
   ]
  },
  {
   "cell_type": "code",
   "execution_count": 18,
   "metadata": {},
   "outputs": [],
   "source": [
    "n_pts = 500\n",
    "centers = [[-1,1],[-1,-1],[1,-1],[1,1],[0,0]]\n",
    "X, Y = datasets.make_blobs(n_samples=n_pts, random_state=123, centers=centers, cluster_std=0.4)"
   ]
  },
  {
   "cell_type": "code",
   "execution_count": 19,
   "metadata": {},
   "outputs": [
    {
     "data": {
      "text/plain": [
       "<matplotlib.collections.PathCollection at 0x1307963c8>"
      ]
     },
     "execution_count": 19,
     "metadata": {},
     "output_type": "execute_result"
    },
    {
     "data": {
      "image/png": "[encoded data removed]",
      "text/plain": [
       "<Figure size 432x288 with 1 Axes>"
      ]
     },
     "metadata": {
      "needs_background": "light"
     },
     "output_type": "display_data"
    }
   ],
   "source": [
    "plt.scatter(X[Y==0,0], X[Y==0, 1])\n",
    "plt.scatter(X[Y==1,0], X[Y==1, 1])\n",
    "plt.scatter(X[Y==2,0], X[Y==2, 1])\n",
    "plt.scatter(X[Y==3,0], X[Y==3, 1])\n",
    "plt.scatter(X[Y==4,0], X[Y==4, 1])"
   ]
  },
  {
   "cell_type": "code",
   "execution_count": 20,
   "metadata": {},
   "outputs": [],
   "source": [
    "y_cat = to_categorical(Y, 5)  #one-hot-encoding\n",
    "# print(y_cat)"
   ]
  },
  {
   "cell_type": "code",
   "execution_count": 21,
   "metadata": {},
   "outputs": [],
   "source": [
    "model = Sequential()\n",
    "model.add(Dense(units=5, input_shape=(2,), activation='softmax'))\n",
    "model.compile(Adam(0.1), loss='categorical_crossentropy', metrics=['accuracy'])"
   ]
  },
  {
   "cell_type": "code",
   "execution_count": 22,
   "metadata": {},
   "outputs": [
    {
     "name": "stdout",
     "output_type": "stream",
     "text": [
      "Epoch 1/100\n",
      "500/500 [==============================] - 0s 361us/step - loss: 1.0530 - acc: 0.6300\n",
      "Epoch 2/100\n",
      "500/500 [==============================] - 0s 21us/step - loss: 0.5452 - acc: 0.8240\n",
      "Epoch 3/100\n",
      "500/500 [==============================] - 0s 23us/step - loss: 0.3746 - acc: 0.9220\n",
      "Epoch 4/100\n",
      "500/500 [==============================] - 0s 21us/step - loss: 0.3057 - acc: 0.9340\n",
      "Epoch 5/100\n",
      "500/500 [==============================] - 0s 19us/step - loss: 0.2683 - acc: 0.9460\n",
      "Epoch 6/100\n",
      "500/500 [==============================] - 0s 22us/step - loss: 0.2441 - acc: 0.9500\n",
      "Epoch 7/100\n",
      "500/500 [==============================] - 0s 24us/step - loss: 0.2294 - acc: 0.9500\n",
      "Epoch 8/100\n",
      "500/500 [==============================] - 0s 22us/step - loss: 0.2191 - acc: 0.9440\n",
      "Epoch 9/100\n",
      "500/500 [==============================] - 0s 22us/step - loss: 0.2103 - acc: 0.9480\n",
      "Epoch 10/100\n",
      "500/500 [==============================] - 0s 22us/step - loss: 0.2029 - acc: 0.9480\n",
      "Epoch 11/100\n",
      "500/500 [==============================] - 0s 21us/step - loss: 0.1973 - acc: 0.9480\n",
      "Epoch 12/100\n",
      "500/500 [==============================] - 0s 24us/step - loss: 0.1924 - acc: 0.9500\n",
      "Epoch 13/100\n",
      "500/500 [==============================] - 0s 24us/step - loss: 0.1897 - acc: 0.9440\n",
      "Epoch 14/100\n",
      "500/500 [==============================] - 0s 22us/step - loss: 0.1870 - acc: 0.9460\n",
      "Epoch 15/100\n",
      "500/500 [==============================] - 0s 23us/step - loss: 0.1815 - acc: 0.9460\n",
      "Epoch 16/100\n",
      "500/500 [==============================] - 0s 22us/step - loss: 0.1785 - acc: 0.9480\n",
      "Epoch 17/100\n",
      "500/500 [==============================] - 0s 22us/step - loss: 0.1769 - acc: 0.9440\n",
      "Epoch 18/100\n",
      "500/500 [==============================] - 0s 22us/step - loss: 0.1742 - acc: 0.9480\n",
      "Epoch 19/100\n",
      "500/500 [==============================] - 0s 23us/step - loss: 0.1727 - acc: 0.9500\n",
      "Epoch 20/100\n",
      "500/500 [==============================] - 0s 21us/step - loss: 0.1727 - acc: 0.9460\n",
      "Epoch 21/100\n",
      "500/500 [==============================] - 0s 22us/step - loss: 0.1695 - acc: 0.9480\n",
      "Epoch 22/100\n",
      "500/500 [==============================] - 0s 22us/step - loss: 0.1673 - acc: 0.9500\n",
      "Epoch 23/100\n",
      "500/500 [==============================] - 0s 22us/step - loss: 0.1665 - acc: 0.9480\n",
      "Epoch 24/100\n",
      "500/500 [==============================] - 0s 23us/step - loss: 0.1658 - acc: 0.9480\n",
      "Epoch 25/100\n",
      "500/500 [==============================] - 0s 22us/step - loss: 0.1657 - acc: 0.9520\n",
      "Epoch 26/100\n",
      "500/500 [==============================] - 0s 22us/step - loss: 0.1629 - acc: 0.9480\n",
      "Epoch 27/100\n",
      "500/500 [==============================] - 0s 23us/step - loss: 0.1624 - acc: 0.9520\n",
      "Epoch 28/100\n",
      "500/500 [==============================] - 0s 22us/step - loss: 0.1615 - acc: 0.9480\n",
      "Epoch 29/100\n",
      "500/500 [==============================] - 0s 23us/step - loss: 0.1607 - acc: 0.9480\n",
      "Epoch 30/100\n",
      "500/500 [==============================] - 0s 22us/step - loss: 0.1595 - acc: 0.9480\n",
      "Epoch 31/100\n",
      "500/500 [==============================] - 0s 22us/step - loss: 0.1611 - acc: 0.9520\n",
      "Epoch 32/100\n",
      "500/500 [==============================] - 0s 22us/step - loss: 0.1604 - acc: 0.9520\n",
      "Epoch 33/100\n",
      "500/500 [==============================] - 0s 24us/step - loss: 0.1584 - acc: 0.9520\n",
      "Epoch 34/100\n",
      "500/500 [==============================] - 0s 23us/step - loss: 0.1591 - acc: 0.9440\n",
      "Epoch 35/100\n",
      "500/500 [==============================] - 0s 22us/step - loss: 0.1572 - acc: 0.9520\n",
      "Epoch 36/100\n",
      "500/500 [==============================] - 0s 20us/step - loss: 0.1577 - acc: 0.9460\n",
      "Epoch 37/100\n",
      "500/500 [==============================] - 0s 23us/step - loss: 0.1566 - acc: 0.9480\n",
      "Epoch 38/100\n",
      "500/500 [==============================] - 0s 21us/step - loss: 0.1560 - acc: 0.9520\n",
      "Epoch 39/100\n",
      "500/500 [==============================] - 0s 20us/step - loss: 0.1559 - acc: 0.9500\n",
      "Epoch 40/100\n",
      "500/500 [==============================] - 0s 23us/step - loss: 0.1553 - acc: 0.9520\n",
      "Epoch 41/100\n",
      "500/500 [==============================] - 0s 25us/step - loss: 0.1564 - acc: 0.9520\n",
      "Epoch 42/100\n",
      "500/500 [==============================] - 0s 26us/step - loss: 0.1561 - acc: 0.9500\n",
      "Epoch 43/100\n",
      "500/500 [==============================] - 0s 24us/step - loss: 0.1563 - acc: 0.9480\n",
      "Epoch 44/100\n",
      "500/500 [==============================] - 0s 21us/step - loss: 0.1540 - acc: 0.9520\n",
      "Epoch 45/100\n",
      "500/500 [==============================] - 0s 23us/step - loss: 0.1559 - acc: 0.9480\n",
      "Epoch 46/100\n",
      "500/500 [==============================] - 0s 22us/step - loss: 0.1546 - acc: 0.9500\n",
      "Epoch 47/100\n",
      "500/500 [==============================] - 0s 22us/step - loss: 0.1547 - acc: 0.9500\n",
      "Epoch 48/100\n",
      "500/500 [==============================] - 0s 23us/step - loss: 0.1550 - acc: 0.9520\n",
      "Epoch 49/100\n",
      "500/500 [==============================] - 0s 24us/step - loss: 0.1540 - acc: 0.9500\n",
      "Epoch 50/100\n",
      "500/500 [==============================] - 0s 24us/step - loss: 0.1535 - acc: 0.9480\n",
      "Epoch 51/100\n",
      "500/500 [==============================] - 0s 24us/step - loss: 0.1539 - acc: 0.9500\n",
      "Epoch 52/100\n",
      "500/500 [==============================] - 0s 22us/step - loss: 0.1535 - acc: 0.9500\n",
      "Epoch 53/100\n",
      "500/500 [==============================] - 0s 23us/step - loss: 0.1532 - acc: 0.9500\n",
      "Epoch 54/100\n",
      "500/500 [==============================] - 0s 24us/step - loss: 0.1530 - acc: 0.9480\n",
      "Epoch 55/100\n",
      "500/500 [==============================] - 0s 25us/step - loss: 0.1528 - acc: 0.9500\n",
      "Epoch 56/100\n",
      "500/500 [==============================] - 0s 25us/step - loss: 0.1533 - acc: 0.9500\n",
      "Epoch 57/100\n",
      "500/500 [==============================] - 0s 21us/step - loss: 0.1529 - acc: 0.9480\n",
      "Epoch 58/100\n",
      "500/500 [==============================] - 0s 23us/step - loss: 0.1558 - acc: 0.9520\n",
      "Epoch 59/100\n",
      "500/500 [==============================] - 0s 24us/step - loss: 0.1540 - acc: 0.9480\n",
      "Epoch 60/100\n",
      "500/500 [==============================] - 0s 25us/step - loss: 0.1533 - acc: 0.9480\n",
      "Epoch 61/100\n",
      "500/500 [==============================] - 0s 22us/step - loss: 0.1527 - acc: 0.9500\n",
      "Epoch 62/100\n",
      "500/500 [==============================] - 0s 22us/step - loss: 0.1526 - acc: 0.9540\n",
      "Epoch 63/100\n",
      "500/500 [==============================] - 0s 22us/step - loss: 0.1524 - acc: 0.9500\n",
      "Epoch 64/100\n",
      "500/500 [==============================] - 0s 24us/step - loss: 0.1526 - acc: 0.9520\n",
      "Epoch 65/100\n",
      "500/500 [==============================] - 0s 22us/step - loss: 0.1523 - acc: 0.9520\n",
      "Epoch 66/100\n",
      "500/500 [==============================] - 0s 22us/step - loss: 0.1527 - acc: 0.9500\n",
      "Epoch 67/100\n",
      "500/500 [==============================] - 0s 24us/step - loss: 0.1522 - acc: 0.9500\n",
      "Epoch 68/100\n",
      "500/500 [==============================] - 0s 26us/step - loss: 0.1515 - acc: 0.9520\n",
      "Epoch 69/100\n",
      "500/500 [==============================] - 0s 21us/step - loss: 0.1528 - acc: 0.9500\n",
      "Epoch 70/100\n",
      "500/500 [==============================] - 0s 26us/step - loss: 0.1523 - acc: 0.9500\n",
      "Epoch 71/100\n",
      "500/500 [==============================] - 0s 25us/step - loss: 0.1520 - acc: 0.9540\n",
      "Epoch 72/100\n",
      "500/500 [==============================] - 0s 22us/step - loss: 0.1522 - acc: 0.9480\n",
      "Epoch 73/100\n",
      "500/500 [==============================] - 0s 22us/step - loss: 0.1514 - acc: 0.9480\n",
      "Epoch 74/100\n",
      "500/500 [==============================] - 0s 24us/step - loss: 0.1510 - acc: 0.9520\n",
      "Epoch 75/100\n",
      "500/500 [==============================] - 0s 24us/step - loss: 0.1513 - acc: 0.9520\n",
      "Epoch 76/100\n",
      "500/500 [==============================] - 0s 25us/step - loss: 0.1514 - acc: 0.9500\n",
      "Epoch 77/100\n",
      "500/500 [==============================] - 0s 24us/step - loss: 0.1528 - acc: 0.9500\n",
      "Epoch 78/100\n",
      "500/500 [==============================] - 0s 22us/step - loss: 0.1520 - acc: 0.9480\n",
      "Epoch 79/100\n",
      "500/500 [==============================] - 0s 22us/step - loss: 0.1521 - acc: 0.9540\n",
      "Epoch 80/100\n",
      "500/500 [==============================] - 0s 22us/step - loss: 0.1530 - acc: 0.9480\n",
      "Epoch 81/100\n",
      "500/500 [==============================] - 0s 23us/step - loss: 0.1519 - acc: 0.9480\n",
      "Epoch 82/100\n",
      "500/500 [==============================] - 0s 24us/step - loss: 0.1524 - acc: 0.9520\n",
      "Epoch 83/100\n",
      "500/500 [==============================] - 0s 21us/step - loss: 0.1537 - acc: 0.9520\n",
      "Epoch 84/100\n"
     ]
    },
    {
     "name": "stdout",
     "output_type": "stream",
     "text": [
      "500/500 [==============================] - 0s 23us/step - loss: 0.1509 - acc: 0.9520\n",
      "Epoch 85/100\n",
      "500/500 [==============================] - 0s 25us/step - loss: 0.1521 - acc: 0.9520\n",
      "Epoch 86/100\n",
      "500/500 [==============================] - 0s 21us/step - loss: 0.1516 - acc: 0.9520\n",
      "Epoch 87/100\n",
      "500/500 [==============================] - 0s 20us/step - loss: 0.1546 - acc: 0.9500\n",
      "Epoch 88/100\n",
      "500/500 [==============================] - 0s 23us/step - loss: 0.1531 - acc: 0.9440\n",
      "Epoch 89/100\n",
      "500/500 [==============================] - 0s 22us/step - loss: 0.1513 - acc: 0.9520\n",
      "Epoch 90/100\n",
      "500/500 [==============================] - 0s 22us/step - loss: 0.1511 - acc: 0.9520\n",
      "Epoch 91/100\n",
      "500/500 [==============================] - 0s 25us/step - loss: 0.1512 - acc: 0.9500\n",
      "Epoch 92/100\n",
      "500/500 [==============================] - 0s 21us/step - loss: 0.1513 - acc: 0.9520\n",
      "Epoch 93/100\n",
      "500/500 [==============================] - 0s 22us/step - loss: 0.1539 - acc: 0.9460\n",
      "Epoch 94/100\n",
      "500/500 [==============================] - 0s 21us/step - loss: 0.1514 - acc: 0.9500\n",
      "Epoch 95/100\n",
      "500/500 [==============================] - 0s 22us/step - loss: 0.1521 - acc: 0.9520\n",
      "Epoch 96/100\n",
      "500/500 [==============================] - 0s 21us/step - loss: 0.1510 - acc: 0.9460\n",
      "Epoch 97/100\n",
      "500/500 [==============================] - 0s 19us/step - loss: 0.1510 - acc: 0.9520\n",
      "Epoch 98/100\n",
      "500/500 [==============================] - 0s 23us/step - loss: 0.1528 - acc: 0.9500\n",
      "Epoch 99/100\n",
      "500/500 [==============================] - 0s 22us/step - loss: 0.1518 - acc: 0.9500\n",
      "Epoch 100/100\n",
      "500/500 [==============================] - 0s 18us/step - loss: 0.1542 - acc: 0.9460\n"
     ]
    },
    {
     "data": {
      "text/plain": [
       "<keras.callbacks.History at 0x106076470>"
      ]
     },
     "execution_count": 22,
     "metadata": {},
     "output_type": "execute_result"
    }
   ],
   "source": [
    "model.fit(x=X,y=y_cat, verbose=1, batch_size=50, epochs=100)"
   ]
  },
  {
   "cell_type": "code",
   "execution_count": 23,
   "metadata": {},
   "outputs": [],
   "source": [
    "def plot_multiclass_decision_boundary(X, y, model):\n",
    "    x_span = np.linspace(min(X[:,0]) - 1, max(X[:,0]) + 1)\n",
    "    y_span = np.linspace(min(X[:,1]) - 1, max(X[:,1]) + 1)\n",
    "    xx, yy = np.meshgrid(x_span, y_span)\n",
    "    grid = np.c_[xx.ravel(), yy.ravel()]\n",
    "    pred_func = model.predict_classes(grid)\n",
    "    z = pred_func.reshape(xx.shape)\n",
    "    plt.contourf(xx, yy, z)"
   ]
  },
  {
   "cell_type": "code",
   "execution_count": 25,
   "metadata": {},
   "outputs": [
    {
     "name": "stdout",
     "output_type": "stream",
     "text": [
      "Prediction is:  [4]\n"
     ]
    },
    {
     "data": {
      "image/png": "[encoded data removed]",
      "text/plain": [
       "<Figure size 432x288 with 1 Axes>"
      ]
     },
     "metadata": {
      "needs_background": "light"
     },
     "output_type": "display_data"
    }
   ],
   "source": [
    "plot_multiclass_decision_boundary(X, y_cat, model)\n",
    "plt.scatter(X[Y==0, 0], X[Y==0, 1])\n",
    "plt.scatter(X[Y==1, 0], X[Y==1, 1])\n",
    "plt.scatter(X[Y==2, 0], X[Y==2, 1])\n",
    "plt.scatter(X[Y==3, 0], X[Y==3, 1])\n",
    "plt.scatter(X[Y==4, 0], X[Y==4, 1])\n",
    "plot_multiclass_decision_boundary(X, y_cat, model)\n",
    "plt.scatter(X[Y==0, 0], X[Y==0, 1])\n",
    "plt.scatter(X[Y==1, 0], X[Y==1, 1])\n",
    "plt.scatter(X[Y==2, 0], X[Y==2, 1])\n",
    "plt.scatter(X[Y==3, 0], X[Y==3, 1])\n",
    "plt.scatter(X[Y==4, 0], X[Y==4, 1])\n",
    " \n",
    "x = -0.5\n",
    "y = -0.5\n",
    " \n",
    "point = np.array([[x, y]])\n",
    "prediction = model.predict_classes(point)\n",
    "plt.plot([x], [y], marker='o', markersize=10, color=\"yellow\")\n",
    "print(\"Prediction is: \", prediction)"
   ]
  },
  {
   "cell_type": "code",
   "execution_count": null,
   "metadata": {},
   "outputs": [],
   "source": []
  }
 ],
 "metadata": {
  "kernelspec": {
   "display_name": "Python 3",
   "language": "python",
   "name": "python3"
  },
  "language_info": {
   "codemirror_mode": {
    "name": "ipython",
    "version": 3
   },
   "file_extension": ".py",
   "mimetype": "text/x-python",
   "name": "python",
   "nbconvert_exporter": "python",
   "pygments_lexer": "ipython3",
   "version": "3.7.1"
  }
 },
 "nbformat": 4,
 "nbformat_minor": 2
}
