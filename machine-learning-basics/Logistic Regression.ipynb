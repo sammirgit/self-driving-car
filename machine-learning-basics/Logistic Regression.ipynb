{
 "cells": [
  {
   "cell_type": "code",
   "execution_count": 7,
   "metadata": {},
   "outputs": [],
   "source": [
    "import numpy as np\n",
    "import matplotlib.pyplot as plt"
   ]
  },
  {
   "cell_type": "code",
   "execution_count": 8,
   "metadata": {},
   "outputs": [],
   "source": [
    "def draw(x1,x2):\n",
    "    ln=plt.plot(x1,x2)"
   ]
  },
  {
   "cell_type": "code",
   "execution_count": 9,
   "metadata": {},
   "outputs": [],
   "source": [
    "def sigmoid(score):\n",
    "    return 1/(1+np.exp(-score))"
   ]
  },
  {
   "cell_type": "code",
   "execution_count": 14,
   "metadata": {},
   "outputs": [
    {
     "name": "stdout",
     "output_type": "stream",
     "text": [
      "[[0.00880295]\n",
      " [0.12823766]\n",
      " [0.09955707]\n",
      " [0.01372204]\n",
      " [0.067494  ]\n",
      " [0.02485266]\n",
      " [0.05783959]\n",
      " [0.10752849]\n",
      " [0.01790212]\n",
      " [0.01982865]\n",
      " [0.01687491]\n",
      " [0.01953267]\n",
      " [0.08305404]\n",
      " [0.01653317]\n",
      " [0.06356942]\n",
      " [0.03244615]\n",
      " [0.01869352]\n",
      " [0.07519977]\n",
      " [0.03714468]\n",
      " [0.04724971]\n",
      " [0.12539518]\n",
      " [0.10048323]\n",
      " [0.03716405]\n",
      " [0.03450275]\n",
      " [0.0422208 ]\n",
      " [0.11779179]\n",
      " [0.08213426]\n",
      " [0.01946251]\n",
      " [0.02223247]\n",
      " [0.0273059 ]\n",
      " [0.09770069]\n",
      " [0.03809842]\n",
      " [0.13321197]\n",
      " [0.1267547 ]\n",
      " [0.10757609]\n",
      " [0.03783167]\n",
      " [0.02670777]\n",
      " [0.04586325]\n",
      " [0.05613233]\n",
      " [0.14016312]\n",
      " [0.22501118]\n",
      " [0.08020485]\n",
      " [0.1058204 ]\n",
      " [0.01936312]\n",
      " [0.01530217]\n",
      " [0.03969957]\n",
      " [0.17366009]\n",
      " [0.02203358]\n",
      " [0.24355157]\n",
      " [0.09180481]\n",
      " [0.09161742]\n",
      " [0.01705515]\n",
      " [0.12192247]\n",
      " [0.16121167]\n",
      " [0.06787429]\n",
      " [0.0826482 ]\n",
      " [0.02888137]\n",
      " [0.1125418 ]\n",
      " [0.16205141]\n",
      " [0.09548502]\n",
      " [0.11081993]\n",
      " [0.01970751]\n",
      " [0.04568011]\n",
      " [0.11197017]\n",
      " [0.12862563]\n",
      " [0.0418729 ]\n",
      " [0.2062352 ]\n",
      " [0.14139238]\n",
      " [0.04036068]\n",
      " [0.05008562]\n",
      " [0.02567474]\n",
      " [0.0485819 ]\n",
      " [0.02285329]\n",
      " [0.14800284]\n",
      " [0.10555543]\n",
      " [0.05199599]\n",
      " [0.14315926]\n",
      " [0.12070453]\n",
      " [0.09478973]\n",
      " [0.06095649]\n",
      " [0.12066537]\n",
      " [0.10930454]\n",
      " [0.08048821]\n",
      " [0.37072208]\n",
      " [0.02336297]\n",
      " [0.08811145]\n",
      " [0.08329147]\n",
      " [0.06509814]\n",
      " [0.14754278]\n",
      " [0.01474653]\n",
      " [0.16332011]\n",
      " [0.03305676]\n",
      " [0.05975925]\n",
      " [0.09338474]\n",
      " [0.0388344 ]\n",
      " [0.05403637]\n",
      " [0.03752671]\n",
      " [0.01814941]\n",
      " [0.01385674]\n",
      " [0.0219592 ]\n",
      " [0.81187527]\n",
      " [0.33963083]\n",
      " [0.51071111]\n",
      " [0.6488571 ]\n",
      " [0.42006154]\n",
      " [0.79726482]\n",
      " [0.79309961]\n",
      " [0.83725098]\n",
      " [0.45075738]\n",
      " [0.63435865]\n",
      " [0.53233469]\n",
      " [0.38194332]\n",
      " [0.70562862]\n",
      " [0.74989307]\n",
      " [0.74023578]\n",
      " [0.62198304]\n",
      " [0.60738376]\n",
      " [0.61043958]\n",
      " [0.38684703]\n",
      " [0.62058137]\n",
      " [0.78348652]\n",
      " [0.75166046]\n",
      " [0.59707131]\n",
      " [0.69657647]\n",
      " [0.86134037]\n",
      " [0.64412191]\n",
      " [0.61010754]\n",
      " [0.21881611]\n",
      " [0.75624774]\n",
      " [0.45881507]\n",
      " [0.60982877]\n",
      " [0.80683733]\n",
      " [0.51895778]\n",
      " [0.74312915]\n",
      " [0.93842191]\n",
      " [0.41656199]\n",
      " [0.73717358]\n",
      " [0.71347874]\n",
      " [0.67002633]\n",
      " [0.26260963]\n",
      " [0.47677129]\n",
      " [0.7060505 ]\n",
      " [0.7180154 ]\n",
      " [0.79721378]\n",
      " [0.69683069]\n",
      " [0.78016881]\n",
      " [0.54843585]\n",
      " [0.46467392]\n",
      " [0.57941702]\n",
      " [0.67739188]\n",
      " [0.67403121]\n",
      " [0.83709485]\n",
      " [0.35161369]\n",
      " [0.73308782]\n",
      " [0.64106511]\n",
      " [0.61938363]\n",
      " [0.87872248]\n",
      " [0.78379617]\n",
      " [0.79720794]\n",
      " [0.43084545]\n",
      " [0.59546966]\n",
      " [0.64567619]\n",
      " [0.49655799]\n",
      " [0.5456355 ]\n",
      " [0.76593338]\n",
      " [0.55276255]\n",
      " [0.58027467]\n",
      " [0.65498531]\n",
      " [0.67079169]\n",
      " [0.75962923]\n",
      " [0.51101628]\n",
      " [0.90062815]\n",
      " [0.27458027]\n",
      " [0.60314429]\n",
      " [0.65165387]\n",
      " [0.5524799 ]\n",
      " [0.43836092]\n",
      " [0.82431758]\n",
      " [0.795289  ]\n",
      " [0.26077924]\n",
      " [0.8365652 ]\n",
      " [0.4306584 ]\n",
      " [0.90514235]\n",
      " [0.62274223]\n",
      " [0.56424813]\n",
      " [0.78854263]\n",
      " [0.81875851]\n",
      " [0.72027506]\n",
      " [0.26315745]\n",
      " [0.4413468 ]\n",
      " [0.56319322]\n",
      " [0.67880455]\n",
      " [0.43188501]\n",
      " [0.87604928]\n",
      " [0.65896067]\n",
      " [0.61734353]\n",
      " [0.44037587]\n",
      " [0.34706788]\n",
      " [0.38536788]\n",
      " [0.41464186]]\n"
     ]
    }
   ],
   "source": [
    "n_pts = 100\n",
    "np.random.seed(0)\n",
    "bias = np.ones(n_pts)\n",
    "\n",
    "top_region = np.array([np.random.normal(10,2,n_pts), np.random.normal(12,2,n_pts), bias]).T\n",
    "bottom_region = np.array([np.random.normal(5,2,n_pts), np.random.normal(6,2,n_pts), bias]).T\n",
    "all_points = np.vstack((top_region, bottom_region))\n",
    "w1 = -0.2\n",
    "w2 = -0.35\n",
    "b = 3.5\n",
    "line_parameters = np.matrix([w1,w2,b]).T\n",
    "x1 = np.array([bottom_region[:,0].min(), top_region[:,0].max()])\n",
    "x2 = -b/w2 + (x1*(-w1/w2))\n",
    "\n",
    "linear_combination = all_points*line_parameters\n",
    "probabilities = sigmoid(linear_combination)\n",
    "print(probabilities)"
   ]
  },
  {
   "cell_type": "code",
   "execution_count": 15,
   "metadata": {},
   "outputs": [
    {
     "data": {
      "image/png": "[encoded data removed]",
      "text/plain": [
       "<Figure size 288x288 with 1 Axes>"
      ]
     },
     "metadata": {
      "needs_background": "light"
     },
     "output_type": "display_data"
    }
   ],
   "source": [
    "_, ax = plt.subplots(figsize=(4,4))\n",
    "ax.scatter(top_region[:,0], top_region[:,1], color='r')\n",
    "ax.scatter(bottom_region[:,0], bottom_region[:,1], color='b')\n",
    "draw(x1,x2)\n",
    "plt.show()\n"
   ]
  },
  {
   "cell_type": "code",
   "execution_count": 16,
   "metadata": {},
   "outputs": [],
   "source": [
    "stri = 'I love Bangladesh'"
   ]
  },
  {
   "cell_type": "code",
   "execution_count": 17,
   "metadata": {},
   "outputs": [
    {
     "data": {
      "text/plain": [
       "'I love Bangladesh'"
      ]
     },
     "execution_count": 17,
     "metadata": {},
     "output_type": "execute_result"
    }
   ],
   "source": [
    "stri"
   ]
  },
  {
   "cell_type": "code",
   "execution_count": 21,
   "metadata": {},
   "outputs": [
    {
     "name": "stdout",
     "output_type": "stream",
     "text": [
      "Bn\n"
     ]
    }
   ],
   "source": [
    "newstring = stri[7:11:2]\n",
    "print(newstring)"
   ]
  },
  {
   "cell_type": "code",
   "execution_count": 27,
   "metadata": {},
   "outputs": [
    {
     "name": "stdout",
     "output_type": "stream",
     "text": [
      "000\n",
      "<class 'str'>\n"
     ]
    }
   ],
   "source": [
    "num = 1000000\n",
    "numstr = str(num)\n",
    "ss = numstr[4:]\n",
    "print(ss)\n",
    "print(type(numstr))"
   ]
  },
  {
   "cell_type": "code",
   "execution_count": 28,
   "metadata": {},
   "outputs": [
    {
     "data": {
      "text/plain": [
       "range(0, 100)"
      ]
     },
     "execution_count": 28,
     "metadata": {},
     "output_type": "execute_result"
    }
   ],
   "source": [
    "range(100)"
   ]
  },
  {
   "cell_type": "code",
   "execution_count": 29,
   "metadata": {},
   "outputs": [
    {
     "data": {
      "text/plain": [
       "range"
      ]
     },
     "execution_count": 29,
     "metadata": {},
     "output_type": "execute_result"
    }
   ],
   "source": [
    "type(range(100))"
   ]
  },
  {
   "cell_type": "code",
   "execution_count": 30,
   "metadata": {},
   "outputs": [
    {
     "data": {
      "text/plain": [
       "[0,\n",
       " 1,\n",
       " 2,\n",
       " 3,\n",
       " 4,\n",
       " 5,\n",
       " 6,\n",
       " 7,\n",
       " 8,\n",
       " 9,\n",
       " 10,\n",
       " 11,\n",
       " 12,\n",
       " 13,\n",
       " 14,\n",
       " 15,\n",
       " 16,\n",
       " 17,\n",
       " 18,\n",
       " 19,\n",
       " 20,\n",
       " 21,\n",
       " 22,\n",
       " 23,\n",
       " 24,\n",
       " 25,\n",
       " 26,\n",
       " 27,\n",
       " 28,\n",
       " 29,\n",
       " 30,\n",
       " 31,\n",
       " 32,\n",
       " 33,\n",
       " 34,\n",
       " 35,\n",
       " 36,\n",
       " 37,\n",
       " 38,\n",
       " 39,\n",
       " 40,\n",
       " 41,\n",
       " 42,\n",
       " 43,\n",
       " 44,\n",
       " 45,\n",
       " 46,\n",
       " 47,\n",
       " 48,\n",
       " 49,\n",
       " 50,\n",
       " 51,\n",
       " 52,\n",
       " 53,\n",
       " 54,\n",
       " 55,\n",
       " 56,\n",
       " 57,\n",
       " 58,\n",
       " 59,\n",
       " 60,\n",
       " 61,\n",
       " 62,\n",
       " 63,\n",
       " 64,\n",
       " 65,\n",
       " 66,\n",
       " 67,\n",
       " 68,\n",
       " 69,\n",
       " 70,\n",
       " 71,\n",
       " 72,\n",
       " 73,\n",
       " 74,\n",
       " 75,\n",
       " 76,\n",
       " 77,\n",
       " 78,\n",
       " 79,\n",
       " 80,\n",
       " 81,\n",
       " 82,\n",
       " 83,\n",
       " 84,\n",
       " 85,\n",
       " 86,\n",
       " 87,\n",
       " 88,\n",
       " 89,\n",
       " 90,\n",
       " 91,\n",
       " 92,\n",
       " 93,\n",
       " 94,\n",
       " 95,\n",
       " 96,\n",
       " 97,\n",
       " 98,\n",
       " 99]"
      ]
     },
     "execution_count": 30,
     "metadata": {},
     "output_type": "execute_result"
    }
   ],
   "source": [
    "list(range(100))"
   ]
  },
  {
   "cell_type": "code",
   "execution_count": 31,
   "metadata": {},
   "outputs": [
    {
     "name": "stdout",
     "output_type": "stream",
     "text": [
      "10\n"
     ]
    }
   ],
   "source": [
    "a = 10\n",
    "b = a\n",
    "b = 0\n",
    "print(a)"
   ]
  },
  {
   "cell_type": "code",
   "execution_count": 32,
   "metadata": {},
   "outputs": [
    {
     "name": "stdout",
     "output_type": "stream",
     "text": [
      "0\n"
     ]
    }
   ],
   "source": [
    "print(b)"
   ]
  },
  {
   "cell_type": "code",
   "execution_count": 33,
   "metadata": {},
   "outputs": [],
   "source": [
    "x = \"hello\"\n",
    "y = x\n",
    "y = \"not hello\""
   ]
  },
  {
   "cell_type": "code",
   "execution_count": 34,
   "metadata": {},
   "outputs": [
    {
     "name": "stdout",
     "output_type": "stream",
     "text": [
      "hello\n"
     ]
    }
   ],
   "source": [
    "print(x)"
   ]
  },
  {
   "cell_type": "code",
   "execution_count": 35,
   "metadata": {},
   "outputs": [],
   "source": [
    "a = 10\n",
    "b = a"
   ]
  },
  {
   "cell_type": "code",
   "execution_count": 36,
   "metadata": {},
   "outputs": [
    {
     "data": {
      "text/plain": [
       "4308975968"
      ]
     },
     "execution_count": 36,
     "metadata": {},
     "output_type": "execute_result"
    }
   ],
   "source": [
    "id(a)"
   ]
  },
  {
   "cell_type": "code",
   "execution_count": 37,
   "metadata": {},
   "outputs": [
    {
     "data": {
      "text/plain": [
       "4308975968"
      ]
     },
     "execution_count": 37,
     "metadata": {},
     "output_type": "execute_result"
    }
   ],
   "source": [
    "id(b)"
   ]
  },
  {
   "cell_type": "code",
   "execution_count": 38,
   "metadata": {},
   "outputs": [],
   "source": [
    "b = 100"
   ]
  },
  {
   "cell_type": "code",
   "execution_count": 39,
   "metadata": {},
   "outputs": [
    {
     "data": {
      "text/plain": [
       "4308978848"
      ]
     },
     "execution_count": 39,
     "metadata": {},
     "output_type": "execute_result"
    }
   ],
   "source": [
    "id(b)"
   ]
  },
  {
   "cell_type": "code",
   "execution_count": 40,
   "metadata": {},
   "outputs": [
    {
     "data": {
      "text/plain": [
       "10"
      ]
     },
     "execution_count": 40,
     "metadata": {},
     "output_type": "execute_result"
    }
   ],
   "source": [
    "a"
   ]
  },
  {
   "cell_type": "code",
   "execution_count": 41,
   "metadata": {},
   "outputs": [
    {
     "data": {
      "text/plain": [
       "10"
      ]
     },
     "execution_count": 41,
     "metadata": {},
     "output_type": "execute_result"
    }
   ],
   "source": [
    "a"
   ]
  },
  {
   "cell_type": "code",
   "execution_count": 42,
   "metadata": {},
   "outputs": [],
   "source": [
    "a = [10,20]"
   ]
  },
  {
   "cell_type": "code",
   "execution_count": 43,
   "metadata": {},
   "outputs": [],
   "source": [
    "b = a"
   ]
  },
  {
   "cell_type": "code",
   "execution_count": 44,
   "metadata": {},
   "outputs": [
    {
     "name": "stdout",
     "output_type": "stream",
     "text": [
      "[10, 20]\n"
     ]
    }
   ],
   "source": [
    "print(a)"
   ]
  },
  {
   "cell_type": "code",
   "execution_count": 45,
   "metadata": {},
   "outputs": [
    {
     "name": "stdout",
     "output_type": "stream",
     "text": [
      "[10, 20]\n"
     ]
    }
   ],
   "source": [
    "print(b)"
   ]
  },
  {
   "cell_type": "code",
   "execution_count": 46,
   "metadata": {},
   "outputs": [],
   "source": [
    "b[1]=10"
   ]
  },
  {
   "cell_type": "code",
   "execution_count": 47,
   "metadata": {},
   "outputs": [
    {
     "data": {
      "text/plain": [
       "[10, 10]"
      ]
     },
     "execution_count": 47,
     "metadata": {},
     "output_type": "execute_result"
    }
   ],
   "source": [
    "b"
   ]
  },
  {
   "cell_type": "code",
   "execution_count": 48,
   "metadata": {},
   "outputs": [
    {
     "data": {
      "text/plain": [
       "[10, 10]"
      ]
     },
     "execution_count": 48,
     "metadata": {},
     "output_type": "execute_result"
    }
   ],
   "source": [
    "a"
   ]
  },
  {
   "cell_type": "code",
   "execution_count": 50,
   "metadata": {},
   "outputs": [
    {
     "data": {
      "text/plain": [
       "65"
      ]
     },
     "execution_count": 50,
     "metadata": {},
     "output_type": "execute_result"
    }
   ],
   "source": [
    "ord('A')"
   ]
  },
  {
   "cell_type": "code",
   "execution_count": 54,
   "metadata": {},
   "outputs": [],
   "source": [
    "l = [1,2,3,4,5]\n",
    "l.sort()\n"
   ]
  },
  {
   "cell_type": "code",
   "execution_count": 55,
   "metadata": {},
   "outputs": [
    {
     "data": {
      "text/plain": [
       "[1, 2, 3, 4, 5]"
      ]
     },
     "execution_count": 55,
     "metadata": {},
     "output_type": "execute_result"
    }
   ],
   "source": [
    "l"
   ]
  },
  {
   "cell_type": "code",
   "execution_count": 56,
   "metadata": {},
   "outputs": [
    {
     "data": {
      "text/plain": [
       "[5, 4, 3, 2, 1]"
      ]
     },
     "execution_count": 56,
     "metadata": {},
     "output_type": "execute_result"
    }
   ],
   "source": [
    "sorted(l, reverse=True)"
   ]
  },
  {
   "cell_type": "code",
   "execution_count": null,
   "metadata": {},
   "outputs": [],
   "source": []
  }
 ],
 "metadata": {
  "kernelspec": {
   "display_name": "Python 3",
   "language": "python",
   "name": "python3"
  },
  "language_info": {
   "codemirror_mode": {
    "name": "ipython",
    "version": 3
   },
   "file_extension": ".py",
   "mimetype": "text/x-python",
   "name": "python",
   "nbconvert_exporter": "python",
   "pygments_lexer": "ipython3",
   "version": "3.7.1"
  }
 },
 "nbformat": 4,
 "nbformat_minor": 2
}
